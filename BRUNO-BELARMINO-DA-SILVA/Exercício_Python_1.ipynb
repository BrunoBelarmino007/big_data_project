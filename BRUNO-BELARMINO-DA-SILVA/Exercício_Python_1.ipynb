{
  "cells": [
    {
      "cell_type": "markdown",
      "metadata": {
        "id": "f6oYv9LEcR8T"
      },
      "source": [
        "**Exercício 1 - Aquecimento de Python para Ciência de Dados**"
      ]
    },
    {
      "cell_type": "markdown",
      "metadata": {
        "id": "v4GVV_w1cYEY"
      },
      "source": [
        "1. Imprima \"Hello, World!\" no console."
      ]
    },
    {
      "cell_type": "code",
      "execution_count": 84,
      "metadata": {
        "id": "dJ12k9hPcNAg"
      },
      "outputs": [
        {
          "name": "stdout",
          "output_type": "stream",
          "text": [
            "Hello, World!!\n"
          ]
        }
      ],
      "source": [
        "print('Hello, World!!')"
      ]
    },
    {
      "cell_type": "markdown",
      "metadata": {
        "id": "ADK7MX25ciYu"
      },
      "source": [
        "2. Crie uma variável x com valor 10 e imprima seu valor."
      ]
    },
    {
      "cell_type": "code",
      "execution_count": 85,
      "metadata": {
        "id": "kk5h1v7ocqel"
      },
      "outputs": [
        {
          "name": "stdout",
          "output_type": "stream",
          "text": [
            "10\n"
          ]
        }
      ],
      "source": [
        "x = 10 \n",
        "print(x)"
      ]
    },
    {
      "cell_type": "markdown",
      "metadata": {
        "id": "bKry1Lukcq6l"
      },
      "source": [
        "3. Some dois números e exiba o resultado."
      ]
    },
    {
      "cell_type": "code",
      "execution_count": 86,
      "metadata": {
        "id": "S6IyQT4Lc2vf"
      },
      "outputs": [
        {
          "name": "stdout",
          "output_type": "stream",
          "text": [
            "8\n"
          ]
        }
      ],
      "source": [
        "h = 5\n",
        "y = 3\n",
        "\n",
        "soma = h + y\n",
        "print(soma)\n",
        "# print(h + y)"
      ]
    },
    {
      "cell_type": "markdown",
      "metadata": {
        "id": "6BG1PN9Qc3VA"
      },
      "source": [
        "4. Verifique se um número é par ou ímpar.\n"
      ]
    },
    {
      "cell_type": "code",
      "execution_count": 87,
      "metadata": {
        "id": "K6NLPZoRc7ov"
      },
      "outputs": [
        {
          "name": "stdout",
          "output_type": "stream",
          "text": [
            "9 é impar\n"
          ]
        }
      ],
      "source": [
        "v = 9\n",
        "\n",
        "if v % 2 == 0:\n",
        "    print ( f'{v} é par' )\n",
        "else:\n",
        "    print ( f'{v} é impar' )"
      ]
    },
    {
      "cell_type": "markdown",
      "metadata": {
        "id": "5dKg-xpvc4xs"
      },
      "source": [
        "5. Crie uma função que receba dois números e retorne a soma deles."
      ]
    },
    {
      "cell_type": "code",
      "execution_count": 88,
      "metadata": {
        "id": "iv1-9Zytc4S3"
      },
      "outputs": [
        {
          "name": "stdout",
          "output_type": "stream",
          "text": [
            "16\n"
          ]
        }
      ],
      "source": [
        "def soma_num ( num1, num2):\n",
        "    return num1 + num2\n",
        "print (soma_num(7,9))"
      ]
    },
    {
      "cell_type": "markdown",
      "metadata": {
        "id": "zsdBZtyjc_62"
      },
      "source": [
        "6. Crie uma lista com os números de 1 a 5 e imprima-a.\n"
      ]
    },
    {
      "cell_type": "code",
      "execution_count": 89,
      "metadata": {
        "id": "xGgkwH7jdCh-"
      },
      "outputs": [
        {
          "name": "stdout",
          "output_type": "stream",
          "text": [
            "[1, 2, 3, 4, 5]\n"
          ]
        }
      ],
      "source": [
        "list = [ 1 , 2 , 3 , 4 , 5]\n",
        "print(list)"
      ]
    },
    {
      "cell_type": "markdown",
      "metadata": {
        "id": "snUAe4qddFsm"
      },
      "source": [
        "7. Adicione o número 6 à lista criada na questão anterior.\n"
      ]
    },
    {
      "cell_type": "code",
      "execution_count": 90,
      "metadata": {
        "id": "QVpSgy7FdGk9"
      },
      "outputs": [
        {
          "name": "stdout",
          "output_type": "stream",
          "text": [
            "[1, 2, 3, 4, 5, 6]\n"
          ]
        }
      ],
      "source": [
        "list.append(6)\n",
        "print(list)"
      ]
    },
    {
      "cell_type": "markdown",
      "metadata": {
        "id": "4HT4BfD1dI8f"
      },
      "source": [
        "8. Remova o número 3 da lista."
      ]
    },
    {
      "cell_type": "code",
      "execution_count": 91,
      "metadata": {
        "id": "QCCxAurPdKjB"
      },
      "outputs": [
        {
          "name": "stdout",
          "output_type": "stream",
          "text": [
            "[1, 2, 4, 5, 6]\n"
          ]
        }
      ],
      "source": [
        "list.remove(3)\n",
        "print(list)"
      ]
    },
    {
      "cell_type": "markdown",
      "metadata": {
        "id": "RyI_EEltdMZt"
      },
      "source": [
        "9. Acesse o terceiro elemento da lista."
      ]
    },
    {
      "cell_type": "code",
      "execution_count": 92,
      "metadata": {
        "id": "HIkSUt_EdOSD"
      },
      "outputs": [
        {
          "name": "stdout",
          "output_type": "stream",
          "text": [
            "4\n"
          ]
        }
      ],
      "source": [
        "print(list[2])"
      ]
    },
    {
      "cell_type": "markdown",
      "metadata": {
        "id": "yQjJYNSsdQUI"
      },
      "source": [
        "10. Imprima o tamanho da lista."
      ]
    },
    {
      "cell_type": "code",
      "execution_count": 93,
      "metadata": {
        "id": "Nz1jOedbdTR-"
      },
      "outputs": [
        {
          "name": "stdout",
          "output_type": "stream",
          "text": [
            "5\n"
          ]
        }
      ],
      "source": [
        "print(len(list))"
      ]
    },
    {
      "cell_type": "markdown",
      "metadata": {
        "id": "2gm3RaRKdyCg"
      },
      "source": [
        "11. Crie um dicionário com informações de um carro (marca, modelo, ano)."
      ]
    },
    {
      "cell_type": "code",
      "execution_count": 94,
      "metadata": {
        "id": "gL_Svemid1kG"
      },
      "outputs": [
        {
          "name": "stdout",
          "output_type": "stream",
          "text": [
            "{'Marca': 'Volkswagen', 'Modelo': 'Fusca', 'Ano': '1961'}\n"
          ]
        }
      ],
      "source": [
        "carro = {\n",
        "    \"Marca\":\"Volkswagen\",\n",
        "    \"Modelo\":\"Fusca\",\n",
        "    \"Ano\":\"1961\"\n",
        "}\n",
        "\n",
        "print(carro)"
      ]
    },
    {
      "cell_type": "markdown",
      "metadata": {
        "id": "ng6tNEYtd0hE"
      },
      "source": [
        "12. Acesse o valor associado à chave \"marca\" no dicionário."
      ]
    },
    {
      "cell_type": "code",
      "execution_count": 95,
      "metadata": {
        "id": "VPDbrV6Ad0Pn"
      },
      "outputs": [
        {
          "name": "stdout",
          "output_type": "stream",
          "text": [
            "Volkswagen\n"
          ]
        }
      ],
      "source": [
        "print(carro[\"Marca\"])"
      ]
    },
    {
      "cell_type": "markdown",
      "metadata": {
        "id": "Ov93hI7Td7c9"
      },
      "source": [
        "13. Adicione uma nova chave \"cor\" com valor \"preto\" ao dicionário."
      ]
    },
    {
      "cell_type": "code",
      "execution_count": 96,
      "metadata": {
        "id": "TrQLLfpid69U"
      },
      "outputs": [
        {
          "name": "stdout",
          "output_type": "stream",
          "text": [
            "{'Marca': 'Volkswagen', 'Modelo': 'Fusca', 'Ano': '1961', 'Cor': 'Preto'}\n"
          ]
        }
      ],
      "source": [
        "carro [\"Cor\"] = \"Preto\"\n",
        "print(carro)"
      ]
    },
    {
      "cell_type": "markdown",
      "metadata": {
        "id": "b_5cOma2d9LP"
      },
      "source": [
        "14. Verifique se a chave \"modelo\" existe no dicionário.\n"
      ]
    },
    {
      "cell_type": "code",
      "execution_count": 97,
      "metadata": {
        "id": "DUMaXPQYd8bM"
      },
      "outputs": [
        {
          "name": "stdout",
          "output_type": "stream",
          "text": [
            "Existe\n"
          ]
        }
      ],
      "source": [
        "if \"Modelo\" in carro:\n",
        "  print(\"Existe\")\n",
        "else:\n",
        "  print(\"Não existe\")"
      ]
    },
    {
      "cell_type": "markdown",
      "metadata": {
        "id": "Zpqnxu2ReBZH"
      },
      "source": [
        "15. Itere sobre as chaves do dicionário e imprima cada uma delas."
      ]
    },
    {
      "cell_type": "code",
      "execution_count": 98,
      "metadata": {
        "id": "4juQCK0veA-g"
      },
      "outputs": [
        {
          "name": "stdout",
          "output_type": "stream",
          "text": [
            "{'Marca': 'Volkswagen', 'Modelo': 'Fusca', 'Ano': '1961', 'Cor': 'Preto'}\n",
            "{'Marca': 'Volkswagen', 'Modelo': 'Fusca', 'Ano': '1961', 'Cor': 'Preto'}\n",
            "{'Marca': 'Volkswagen', 'Modelo': 'Fusca', 'Ano': '1961', 'Cor': 'Preto'}\n",
            "{'Marca': 'Volkswagen', 'Modelo': 'Fusca', 'Ano': '1961', 'Cor': 'Preto'}\n"
          ]
        }
      ],
      "source": [
        "for chave in carro:\n",
        "    print(carro)"
      ]
    },
    {
      "cell_type": "markdown",
      "metadata": {
        "id": "GAoDb4pneG-j"
      },
      "source": [
        "15. Itere sobre as chaves do dicionário e imprima cada uma delas."
      ]
    },
    {
      "cell_type": "code",
      "execution_count": 99,
      "metadata": {
        "id": "aqi8-PtUeGx5"
      },
      "outputs": [
        {
          "name": "stdout",
          "output_type": "stream",
          "text": [
            "{'Marca': 'Volkswagen', 'Modelo': 'Fusca', 'Ano': '1961', 'Cor': 'Preto'}\n",
            "{'Marca': 'Volkswagen', 'Modelo': 'Fusca', 'Ano': '1961', 'Cor': 'Preto'}\n",
            "{'Marca': 'Volkswagen', 'Modelo': 'Fusca', 'Ano': '1961', 'Cor': 'Preto'}\n",
            "{'Marca': 'Volkswagen', 'Modelo': 'Fusca', 'Ano': '1961', 'Cor': 'Preto'}\n"
          ]
        }
      ],
      "source": [
        "for chave in carro:\n",
        "    print(carro)"
      ]
    },
    {
      "cell_type": "markdown",
      "metadata": {
        "id": "oxI3BVhteGhH"
      },
      "source": [
        "17. Crie uma função que receba uma lista e retorne a soma dos elementos."
      ]
    },
    {
      "cell_type": "code",
      "execution_count": 100,
      "metadata": {
        "id": "Ijnkd3cJeMM_"
      },
      "outputs": [
        {
          "name": "stdout",
          "output_type": "stream",
          "text": [
            "18\n"
          ]
        }
      ],
      "source": [
        "def somando (list):\n",
        "    return sum(list)\n",
        "\n",
        "print(somando(list))"
      ]
    },
    {
      "cell_type": "markdown",
      "metadata": {
        "id": "Abqc7zdfeNl7"
      },
      "source": [
        "18. Crie uma função que receba um dicionário e retorne todas as suas chaves.\n"
      ]
    },
    {
      "cell_type": "code",
      "execution_count": 101,
      "metadata": {
        "id": "ZbHQ9bipeQc3"
      },
      "outputs": [
        {
          "name": "stdout",
          "output_type": "stream",
          "text": [
            "dict_keys(['Marca', 'Modelo', 'Ano', 'Cor'])\n"
          ]
        }
      ],
      "source": [
        "def retorna(dicionario):\n",
        "    return dicionario.keys()\n",
        "\n",
        "print(retorna(carro))"
      ]
    },
    {
      "cell_type": "markdown",
      "metadata": {
        "id": "wF_R9JlDeNip"
      },
      "source": [
        "\n",
        "19. Crie uma função que receba um dicionário e imprima chave e valor em linhas separadas."
      ]
    },
    {
      "cell_type": "code",
      "execution_count": 102,
      "metadata": {
        "id": "ONvkXUDWeVX3"
      },
      "outputs": [
        {
          "name": "stdout",
          "output_type": "stream",
          "text": [
            "Chave: Marca, Valor Volkswagen\n",
            "Chave: Modelo, Valor Fusca\n",
            "Chave: Ano, Valor 1961\n",
            "Chave: Cor, Valor Preto\n"
          ]
        }
      ],
      "source": [
        "def mostrar(dicionario):\n",
        "    for chave, valor in dicionario.items():\n",
        "        print(f\"Chave: {chave}, Valor {valor}\")\n",
        "\n",
        "mostrar (carro)"
      ]
    },
    {
      "cell_type": "markdown",
      "metadata": {
        "id": "5ZSYRpJ-eM4s"
      },
      "source": [
        "20. Crie uma classe chamada Pessoa com atributos nome e idade, e um método que imprima esses dados."
      ]
    },
    {
      "cell_type": "code",
      "execution_count": 103,
      "metadata": {
        "id": "RNqpzQzdeYUG"
      },
      "outputs": [
        {
          "name": "stdout",
          "output_type": "stream",
          "text": [
            "Nome: Bruno, Idade: 25\n"
          ]
        }
      ],
      "source": [
        "class Pessoa:\n",
        "    def __init__(self, nome, idade):\n",
        "        self.nome = nome\n",
        "        self.idade = idade\n",
        "    \n",
        "    def mostra_dados(self):\n",
        "        print(f\"Nome: {self.nome}, Idade: {self.idade}\")\n",
        "\n",
        "\n",
        "p = Pessoa(\"Bruno\", 25)\n",
        "p.mostra_dados()"
      ]
    }
  ],
  "metadata": {
    "colab": {
      "provenance": []
    },
    "kernelspec": {
      "display_name": "venv",
      "language": "python",
      "name": "python3"
    },
    "language_info": {
      "codemirror_mode": {
        "name": "ipython",
        "version": 3
      },
      "file_extension": ".py",
      "mimetype": "text/x-python",
      "name": "python",
      "nbconvert_exporter": "python",
      "pygments_lexer": "ipython3",
      "version": "3.11.2"
    }
  },
  "nbformat": 4,
  "nbformat_minor": 0
}
